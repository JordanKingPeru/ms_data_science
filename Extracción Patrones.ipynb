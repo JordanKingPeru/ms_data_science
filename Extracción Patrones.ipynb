{
  "nbformat": 4,
  "nbformat_minor": 0,
  "metadata": {
    "colab": {
      "name": "Master-DS-UPC-clase6.ipynb",
      "provenance": [],
      "include_colab_link": true
    },
    "kernelspec": {
      "name": "python3",
      "display_name": "Python 3"
    }
  },
  "cells": [
    {
      "cell_type": "markdown",
      "metadata": {
        "id": "view-in-github",
        "colab_type": "text"
      },
      "source": [
        "<a href=\"https://colab.research.google.com/github/JordanKingPeru/ms_data_science/blob/main/Extracci%C3%B3n%20Patrones.ipynb\" target=\"_parent\"><img src=\"https://colab.research.google.com/assets/colab-badge.svg\" alt=\"Open In Colab\"/></a>"
      ]
    },
    {
      "cell_type": "code",
      "metadata": {
        "colab": {
          "base_uri": "https://localhost:8080/"
        },
        "id": "6WYvSVWC_yx9",
        "outputId": "30fbf373-2040-47e7-cd4f-cdd5a7fbcaa5"
      },
      "source": [
        "!pip install https://bit.ly/3o4smsZ"
      ],
      "execution_count": null,
      "outputs": [
        {
          "output_type": "stream",
          "text": [
            "Collecting https://bit.ly/3o4smsZ\n",
            "  Using cached https://bit.ly/3o4smsZ\n",
            "\u001b[33m  WARNING: Cannot determine compression type for file /tmp/pip-unpack-8bo90nm7/3o4smsZ.a\u001b[0m\n",
            "Requirement already satisfied (use --upgrade to upgrade): fim==6.27 from https://bit.ly/3o4smsZ in /usr/local/lib/python3.6/dist-packages\n",
            "Building wheels for collected packages: fim\n",
            "  Building wheel for fim (setup.py) ... \u001b[?25l\u001b[?25hdone\n",
            "  Created wheel for fim: filename=fim-6.27-cp36-cp36m-linux_x86_64.whl size=522725 sha256=b2c4737938f48ff9c2fb4eec3321ad36525f55c4bb69d58980b4ce24756d9d41\n",
            "  Stored in directory: /tmp/pip-ephem-wheel-cache-9t0b6pay/wheels/2a/ec/63/3ccb935ec6cdd2af71f8823f3ebed3c33664fdebae39cef204\n",
            "Successfully built fim\n"
          ],
          "name": "stdout"
        }
      ]
    },
    {
      "cell_type": "code",
      "metadata": {
        "id": "xP32lI2EACH_"
      },
      "source": [
        "from fim import *\r\n",
        "import matplotlib.pyplot as plt\r\n",
        "import numpy as np\r\n",
        "import seaborn as sns; sns.set()\r\n",
        "import pandas as pd\r\n",
        "import time"
      ],
      "execution_count": null,
      "outputs": []
    },
    {
      "cell_type": "code",
      "metadata": {
        "colab": {
          "base_uri": "https://localhost:8080/",
          "height": 355
        },
        "id": "7nIdxi3nApe6",
        "outputId": "f992cef6-6f65-4adb-c92f-67793880a400"
      },
      "source": [
        "url = \"https://bit.ly/37ObeBK\"\r\n",
        "df = pd.read_csv(url)\r\n",
        "df.head(10)"
      ],
      "execution_count": null,
      "outputs": [
        {
          "output_type": "execute_result",
          "data": {
            "text/html": [
              "<div>\n",
              "<style scoped>\n",
              "    .dataframe tbody tr th:only-of-type {\n",
              "        vertical-align: middle;\n",
              "    }\n",
              "\n",
              "    .dataframe tbody tr th {\n",
              "        vertical-align: top;\n",
              "    }\n",
              "\n",
              "    .dataframe thead th {\n",
              "        text-align: right;\n",
              "    }\n",
              "</style>\n",
              "<table border=\"1\" class=\"dataframe\">\n",
              "  <thead>\n",
              "    <tr style=\"text-align: right;\">\n",
              "      <th></th>\n",
              "      <th>0</th>\n",
              "      <th>1</th>\n",
              "      <th>2</th>\n",
              "      <th>3</th>\n",
              "      <th>4</th>\n",
              "      <th>5</th>\n",
              "      <th>6</th>\n",
              "    </tr>\n",
              "  </thead>\n",
              "  <tbody>\n",
              "    <tr>\n",
              "      <th>0</th>\n",
              "      <td>Bread</td>\n",
              "      <td>Wine</td>\n",
              "      <td>Eggs</td>\n",
              "      <td>Meat</td>\n",
              "      <td>Cheese</td>\n",
              "      <td>Pencil</td>\n",
              "      <td>Diaper</td>\n",
              "    </tr>\n",
              "    <tr>\n",
              "      <th>1</th>\n",
              "      <td>Bread</td>\n",
              "      <td>Cheese</td>\n",
              "      <td>Meat</td>\n",
              "      <td>Diaper</td>\n",
              "      <td>Wine</td>\n",
              "      <td>Milk</td>\n",
              "      <td>Pencil</td>\n",
              "    </tr>\n",
              "    <tr>\n",
              "      <th>2</th>\n",
              "      <td>Cheese</td>\n",
              "      <td>Meat</td>\n",
              "      <td>Eggs</td>\n",
              "      <td>Milk</td>\n",
              "      <td>Wine</td>\n",
              "      <td>NaN</td>\n",
              "      <td>NaN</td>\n",
              "    </tr>\n",
              "    <tr>\n",
              "      <th>3</th>\n",
              "      <td>Cheese</td>\n",
              "      <td>Meat</td>\n",
              "      <td>Eggs</td>\n",
              "      <td>Milk</td>\n",
              "      <td>Wine</td>\n",
              "      <td>NaN</td>\n",
              "      <td>NaN</td>\n",
              "    </tr>\n",
              "    <tr>\n",
              "      <th>4</th>\n",
              "      <td>Meat</td>\n",
              "      <td>Pencil</td>\n",
              "      <td>Wine</td>\n",
              "      <td>NaN</td>\n",
              "      <td>NaN</td>\n",
              "      <td>NaN</td>\n",
              "      <td>NaN</td>\n",
              "    </tr>\n",
              "    <tr>\n",
              "      <th>5</th>\n",
              "      <td>Eggs</td>\n",
              "      <td>Bread</td>\n",
              "      <td>Wine</td>\n",
              "      <td>Pencil</td>\n",
              "      <td>Milk</td>\n",
              "      <td>Diaper</td>\n",
              "      <td>Bagel</td>\n",
              "    </tr>\n",
              "    <tr>\n",
              "      <th>6</th>\n",
              "      <td>Wine</td>\n",
              "      <td>Pencil</td>\n",
              "      <td>Eggs</td>\n",
              "      <td>Cheese</td>\n",
              "      <td>NaN</td>\n",
              "      <td>NaN</td>\n",
              "      <td>NaN</td>\n",
              "    </tr>\n",
              "    <tr>\n",
              "      <th>7</th>\n",
              "      <td>Bagel</td>\n",
              "      <td>Bread</td>\n",
              "      <td>Milk</td>\n",
              "      <td>Pencil</td>\n",
              "      <td>Diaper</td>\n",
              "      <td>NaN</td>\n",
              "      <td>NaN</td>\n",
              "    </tr>\n",
              "    <tr>\n",
              "      <th>8</th>\n",
              "      <td>Bread</td>\n",
              "      <td>Diaper</td>\n",
              "      <td>Cheese</td>\n",
              "      <td>Milk</td>\n",
              "      <td>Wine</td>\n",
              "      <td>Eggs</td>\n",
              "      <td>NaN</td>\n",
              "    </tr>\n",
              "    <tr>\n",
              "      <th>9</th>\n",
              "      <td>Bagel</td>\n",
              "      <td>Wine</td>\n",
              "      <td>Diaper</td>\n",
              "      <td>Meat</td>\n",
              "      <td>Pencil</td>\n",
              "      <td>Eggs</td>\n",
              "      <td>Cheese</td>\n",
              "    </tr>\n",
              "  </tbody>\n",
              "</table>\n",
              "</div>"
            ],
            "text/plain": [
              "        0       1       2       3       4       5       6\n",
              "0   Bread    Wine    Eggs    Meat  Cheese  Pencil  Diaper\n",
              "1   Bread  Cheese    Meat  Diaper    Wine    Milk  Pencil\n",
              "2  Cheese    Meat    Eggs    Milk    Wine     NaN     NaN\n",
              "3  Cheese    Meat    Eggs    Milk    Wine     NaN     NaN\n",
              "4    Meat  Pencil    Wine     NaN     NaN     NaN     NaN\n",
              "5    Eggs   Bread    Wine  Pencil    Milk  Diaper   Bagel\n",
              "6    Wine  Pencil    Eggs  Cheese     NaN     NaN     NaN\n",
              "7   Bagel   Bread    Milk  Pencil  Diaper     NaN     NaN\n",
              "8   Bread  Diaper  Cheese    Milk    Wine    Eggs     NaN\n",
              "9   Bagel    Wine  Diaper    Meat  Pencil    Eggs  Cheese"
            ]
          },
          "metadata": {
            "tags": []
          },
          "execution_count": 3
        }
      ]
    },
    {
      "cell_type": "code",
      "metadata": {
        "colab": {
          "base_uri": "https://localhost:8080/"
        },
        "id": "yMdb0idYBVkY",
        "outputId": "5dba8737-ce8b-4606-ef0a-25f011609d06"
      },
      "source": [
        "df.shape"
      ],
      "execution_count": null,
      "outputs": [
        {
          "output_type": "execute_result",
          "data": {
            "text/plain": [
              "(315, 7)"
            ]
          },
          "metadata": {
            "tags": []
          },
          "execution_count": 4
        }
      ]
    },
    {
      "cell_type": "code",
      "metadata": {
        "colab": {
          "base_uri": "https://localhost:8080/"
        },
        "id": "dAnqO2d_Bufo",
        "outputId": "f9605548-5337-4b9c-8004-ec0d09fe7af8"
      },
      "source": [
        "help(eclat)"
      ],
      "execution_count": null,
      "outputs": [
        {
          "output_type": "stream",
          "text": [
            "Help on built-in function eclat in module fim:\n",
            "\n",
            "eclat(...)\n",
            "    eclat (tracts, target='s', supp=10, zmin=1, zmax=None, report='a',\n",
            "           eval='x', agg='x', thresh=10, prune=None, algo='a', mode='',\n",
            "           border=None)\n",
            "    Find frequent item sets with the Eclat algorithm.\n",
            "    tracts  transaction database to mine (mandatory)\n",
            "            The database must be an iterable of transactions;\n",
            "            each transaction must be an iterable of items;\n",
            "            each item must be a hashable object.\n",
            "            If the database is a dictionary, the transactions are\n",
            "            the keys, the values their (integer) multiplicities.\n",
            "    target  type of frequent item sets to find     (default: s)\n",
            "            s/a   sets/all   all     frequent item sets\n",
            "            c     closed     closed  frequent item sets\n",
            "            m     maximal    maximal frequent item sets\n",
            "            g     gens       generators\n",
            "            r     rules      association rules\n",
            "    supp    minimum support of an item set         (default: 10)\n",
            "            (positive: percentage, negative: absolute number)\n",
            "    conf    minimum confidence of an assoc. rule   (default: 80%)\n",
            "    zmin    minimum number of items per item set   (default: 1)\n",
            "    zmax    maximum number of items per item set   (default: no limit)\n",
            "    report  values to report with an item set      (default: a)\n",
            "            a     absolute item set support (number of transactions)\n",
            "            s     relative item set support as a fraction\n",
            "            S     relative item set support as a percentage\n",
            "            e     value of item set evaluation measure\n",
            "            E     value of item set evaluation measure as a percentage\n",
            "            (     combine values in a tuple (must be first character)\n",
            "            [     combine values in a list  (must be first character)\n",
            "            #     pattern spectrum as a dictionary  (no patterns)\n",
            "            =     pattern spectrum as a list        (no patterns)\n",
            "            |     pattern spectrum as three columns (no patterns)\n",
            "            for target 'r' (association rules) also available:\n",
            "            b     absolute body set  support (number of transactions)\n",
            "            x     relative body set  support as a fraction\n",
            "            X     relative body set  support as a percentage\n",
            "            h     absolute head item support (number of transactions)\n",
            "            y     relative head item support as a fraction\n",
            "            Y     relative head item support as a percentage\n",
            "            c     rule confidence as a fraction\n",
            "            C     rule confidence as a percentage\n",
            "            l     lift value of a rule (confidence/prior)\n",
            "            L     lift value of a rule as a percentage\n",
            "            Q     support of the empty set (total number of transactions)\n",
            "    eval    measure for item set evaluation        (default: x)\n",
            "            x     none       no measure / zero (default)\n",
            "            b     ldratio    binary logarithm of support quotient       (+)\n",
            "            c     conf       rule confidence                            (+)\n",
            "            d     confdiff   absolute confidence difference to prior    (+)\n",
            "            l     lift       lift value (confidence divided by prior)   (+)\n",
            "            a     liftdiff   absolute difference of lift value to 1     (+)\n",
            "            q     liftquot   difference of lift quotient to 1           (+)\n",
            "            v     cvct       conviction (inverse lift for negated head) (+)\n",
            "            e     cvctdiff   absolute difference of conviction to 1     (+)\n",
            "            r     cvctquot   difference of conviction quotient to 1     (+)\n",
            "            k     cprob      conditional probability ratio              (+)\n",
            "            j     import     importance (binary log. of prob. ratio)    (+)\n",
            "            z     cert       certainty factor (relative conf. change)   (+)\n",
            "            n     chi2       normalized chi^2 measure                   (+)\n",
            "            p     chi2pval   p-value from (unnormalized) chi^2 measure  (-)\n",
            "            y     yates      normalized chi^2 with Yates' correction    (+)\n",
            "            t     yatespval  p-value from Yates-corrected chi^2 measure (-)\n",
            "            i     info       information difference to prior            (+)\n",
            "            g     infopval   p-value from G statistic/info. difference  (-)\n",
            "            f     fetprob    Fisher's exact test (table probability)    (-)\n",
            "            h     fetchi2    Fisher's exact test (chi^2 measure)        (-)\n",
            "            m     fetinfo    Fisher's exact test (mutual information)   (-)\n",
            "            s     fetsupp    Fisher's exact test (support)              (-)\n",
            "            Measures marked with (+) must meet or exceed the threshold,\n",
            "            measures marked with (-) must not exceed the threshold\n",
            "            in order for the item set to be reported.\n",
            "    agg     evaluation measure aggregation mode    (default: x)\n",
            "            x     none       no aggregation (use first value)\n",
            "            m     min        minimum of individual measure values\n",
            "            n     max        maximum of individual measure values\n",
            "            a     avg        average of individual measure values\n",
            "    thresh  threshold for evaluation measure       (default: 10%)\n",
            "    prune   min. size for evaluation filtering     (default: no pruning)\n",
            "            = 0   backward filtering       (no subset check)\n",
            "            < 0   weak   forward filtering (one subset  must qualify)\n",
            "            > 0   strong forward filtering (all subsets must qualify)\n",
            "    algo    algorithm variant to use               (default: a)\n",
            "            a     auto       automatic choice based on data properties\n",
            "            e     basic      transaction id lists intersection (basic)\n",
            "            i     tids       transaction id lists intersection (improved)\n",
            "            b     bits       transaction id lists as bit vectors\n",
            "            t     table      item occurrence table (standard)\n",
            "            s     simple     item occurrence table (simplified)\n",
            "            r     ranges     transaction id range lists intersection\n",
            "            o     occdlv     occurrence deliver from transaction lists\n",
            "            d     diff       transaction id difference sets (diffsets)\n",
            "    mode    operation mode indicators/flags        (default: None)\n",
            "            l     do not use a 16-items machine\n",
            "            x     do not use perfect extension pruning\n",
            "            i     do not sort items w.r.t. conditional support\n",
            "            u     do not head union tail (hut) pruning (maximal)\n",
            "            y     check extensions for closed/maximal item sets\n",
            "            z     invalidate evaluation below expected support\n",
            "            o     use original rule support definition (body & head)\n",
            "    border  support border for filtering item sets (default: None)\n",
            "            Must be a list or tuple of (absolute) minimum support values\n",
            "            per item set size (by which the list/tuple is indexed).\n",
            "    appear  dictionary mapping items to item appearance indicators,\n",
            "            with the key None referring to the default item appearance.\n",
            "            (If None does not occur as a key or no dictionary is given,\n",
            "            the default item appearance indicator is 'both'.)\n",
            "            This parameter is only used if the target type is rules.\n",
            "            * item may not appear anywhere in a rule:\n",
            "              '-', 'n', 'none', 'neither', 'ignore'\n",
            "            * item may appear only in rule body/antecedent:\n",
            "              'i', 'in', 'inp', 'input', 'b', 'body',\n",
            "              'a', 'ante', 'antecedent'\n",
            "            * item may appear only in rule head/consequent:\n",
            "              'o', 'out',      'output', 'h', 'head',\n",
            "              'c', 'cons', 'consequent'\n",
            "            * item may appear anywhere in a rule:\n",
            "              'io', 'i&o', 'inout', 'in&out', 'bh', 'b&h', 'both'\n",
            "    returns if report is not in ['#','=','|']:\n",
            "              if the target is association rules:\n",
            "                a list of rules (i.e. tuples with two or more elements),\n",
            "                each consisting of a head/consequent item, a tuple with\n",
            "                a body/antecedent item set, and the values selected by\n",
            "                the parameter 'report', which may be combined into a\n",
            "                tuple or a list if report[0] is '(' or '[', respectively.          if the target is a type of item sets:\n",
            "                a list of patterns (i.e. tuples with one or more elements),\n",
            "                each consisting of a tuple with a found frequent item set\n",
            "                and the values selected by the parameter 'report', which\n",
            "                may be combined into a tuple or list if report[0] is '('\n",
            "                or '[', respectively\n",
            "            if report in ['#','=','|']:\n",
            "              a pattern spectrum as a dictionary mapping pattern sizes\n",
            "              to the corresponding occurrence support ranges, as a list\n",
            "              of triplets (size, min. support, max. support) or as three\n",
            "              columns for sizes and minimum and maximum support values\n",
            "\n"
          ],
          "name": "stdout"
        }
      ]
    },
    {
      "cell_type": "code",
      "metadata": {
        "colab": {
          "base_uri": "https://localhost:8080/"
        },
        "id": "o0bh2oN0B57I",
        "outputId": "282b2f54-d824-44a8-deac-f6f95486bd65"
      },
      "source": [
        "help(fpgrowth)"
      ],
      "execution_count": null,
      "outputs": [
        {
          "output_type": "stream",
          "text": [
            "Help on built-in function fpgrowth in module fim:\n",
            "\n",
            "fpgrowth(...)\n",
            "    fpgrowth (tracts, target='s', supp=10, zmin=1, zmax=None, report='a',\n",
            "              eval='x', agg='x', thresh=10, prune=Nobe, algo='s', mode='',\n",
            "              border=None)\n",
            "    Find frequent item sets with the FP-growth algorithm.\n",
            "    tracts  transaction database to mine (mandatory)\n",
            "            The database must be an iterable of transactions;\n",
            "            each transaction must be an iterable of items;\n",
            "            each item must be a hashable object.\n",
            "            If the database is a dictionary, the transactions are\n",
            "            the keys, the values their (integer) multiplicities.\n",
            "    target  type of frequent item sets to find     (default: s)\n",
            "            s/a   sets/all   all     frequent item sets\n",
            "            c     closed     closed  frequent item sets\n",
            "            m     maximal    maximal frequent item sets\n",
            "            g     gens       generators\n",
            "            r     rules      association rules\n",
            "    supp    minimum support of an item set         (default: 10)\n",
            "            (positive: percentage, negative: absolute number)\n",
            "    conf    minimum confidence of an assoc. rule   (default: 80%)\n",
            "    zmin    minimum number of items per item set   (default: 1)\n",
            "    zmax    maximum number of items per item set   (default: no limit)\n",
            "    report  values to report with an item set      (default: a)\n",
            "            a     absolute item set support (number of transactions)\n",
            "            s     relative item set support as a fraction\n",
            "            S     relative item set support as a percentage\n",
            "            e     value of item set evaluation measure\n",
            "            E     value of item set evaluation measure as a percentage\n",
            "            (     combine values in a tuple (must be first character)\n",
            "            [     combine values in a list  (must be first character)\n",
            "            #     pattern spectrum as a dictionary  (no patterns)\n",
            "            =     pattern spectrum as a list        (no patterns)\n",
            "            |     pattern spectrum as three columns (no patterns)\n",
            "            for target 'r' (association rules) also available:\n",
            "            b     absolute body set  support (number of transactions)\n",
            "            x     relative body set  support as a fraction\n",
            "            X     relative body set  support as a percentage\n",
            "            h     absolute head item support (number of transactions)\n",
            "            y     relative head item support as a fraction\n",
            "            Y     relative head item support as a percentage\n",
            "            c     rule confidence as a fraction\n",
            "            C     rule confidence as a percentage\n",
            "            l     lift value of a rule (confidence/prior)\n",
            "            L     lift value of a rule as a percentage\n",
            "            Q     support of the empty set (total number of transactions)\n",
            "    eval    measure for item set evaluation        (default: x)\n",
            "            x     none       no measure / zero (default)\n",
            "            b     ldratio    binary logarithm of support quotient       (+)\n",
            "            c     conf       rule confidence                            (+)\n",
            "            d     confdiff   absolute confidence difference to prior    (+)\n",
            "            l     lift       lift value (confidence divided by prior)   (+)\n",
            "            a     liftdiff   absolute difference of lift value to 1     (+)\n",
            "            q     liftquot   difference of lift quotient to 1           (+)\n",
            "            v     cvct       conviction (inverse lift for negated head) (+)\n",
            "            e     cvctdiff   absolute difference of conviction to 1     (+)\n",
            "            r     cvctquot   difference of conviction quotient to 1     (+)\n",
            "            k     cprob      conditional probability ratio              (+)\n",
            "            j     import     importance (binary log. of prob. ratio)    (+)\n",
            "            z     cert       certainty factor (relative conf. change)   (+)\n",
            "            n     chi2       normalized chi^2 measure                   (+)\n",
            "            p     chi2pval   p-value from (unnormalized) chi^2 measure  (-)\n",
            "            y     yates      normalized chi^2 with Yates' correction    (+)\n",
            "            t     yatespval  p-value from Yates-corrected chi^2 measure (-)\n",
            "            i     info       information difference to prior            (+)\n",
            "            g     infopval   p-value from G statistic/info. difference  (-)\n",
            "            f     fetprob    Fisher's exact test (table probability)    (-)\n",
            "            h     fetchi2    Fisher's exact test (chi^2 measure)        (-)\n",
            "            m     fetinfo    Fisher's exact test (mutual information)   (-)\n",
            "            s     fetsupp    Fisher's exact test (support)              (-)\n",
            "            Measures marked with (+) must meet or exceed the threshold,\n",
            "            measures marked with (-) must not exceed the threshold\n",
            "            in order for the item set to be reported.\n",
            "    agg     evaluation measure aggregation mode    (default: x)\n",
            "            x     none       no aggregation (use first value)\n",
            "            m     min        minimum of individual measure values\n",
            "            n     max        maximum of individual measure values\n",
            "            a     avg        average of individual measure values\n",
            "    thresh  threshold for evaluation measure       (default: 10%)\n",
            "    prune   min. size for evaluation filtering     (default: no pruning)\n",
            "            = 0   backward filtering       (no subset check)\n",
            "            < 0   weak   forward filtering (one subset  must qualify)\n",
            "            > 0   strong forward filtering (all subsets must qualify)\n",
            "    algo    algorithm variant to use               (default: s)\n",
            "            s     simple     simple  tree nodes (only link and parent)\n",
            "            c     complex    complex tree nodes (children and siblings)\n",
            "            d     single     top-down processing on a single prefix tree\n",
            "            t     topdown    top-down processing of the prefix trees\n",
            "            Variant d does not support closed/maximal item set mining.\n",
            "    mode    operation mode indicators/flags        (default: None)\n",
            "            l     do not use a 16-items machine\n",
            "            x     do not use perfect extension pruning\n",
            "            i     do not sort items w.r.t. conditional support\n",
            "            u     do not head union tail (hut) pruning (maximal)\n",
            "            z     invalidate evaluation below expected support\n",
            "            o     use original rule support definition (body & head)\n",
            "    border  support border for filtering item sets (default: None)\n",
            "            Must be a list or tuple of (absolute) minimum support values\n",
            "            per item set size (by which the list/tuple is indexed).\n",
            "    appear  dictionary mapping items to item appearance indicators,\n",
            "            with the key None referring to the default item appearance.\n",
            "            (If None does not occur as a key or no dictionary is given,\n",
            "            the default item appearance indicator is 'both'.)\n",
            "            This parameter is only used if the target type is rules.\n",
            "            * item may not appear anywhere in a rule:\n",
            "              '-', 'n', 'none', 'neither', 'ignore'\n",
            "            * item may appear only in rule body/antecedent:\n",
            "              'i', 'in', 'inp', 'input', 'b', 'body',\n",
            "              'a', 'ante', 'antecedent'\n",
            "            * item may appear only in rule head/consequent:\n",
            "              'o', 'out',      'output', 'h', 'head',\n",
            "              'c', 'cons', 'consequent'\n",
            "            * item may appear anywhere in a rule:\n",
            "              'io', 'i&o', 'inout', 'in&out', 'bh', 'b&h', 'both'\n",
            "    returns if report is not in ['#','=','|']:\n",
            "              if the target is association rules:\n",
            "                a list of rules (i.e. tuples with two or more elements),\n",
            "                each consisting of a head/consequent item, a tuple with\n",
            "                a body/antecedent item set, and the values selected by\n",
            "                the parameter 'report', which may be combined into a\n",
            "                tuple or a list if report[0] is '(' or '[', respectively.          if the target is a type of item sets:\n",
            "                a list of patterns (i.e. tuples with one or more elements),\n",
            "                each consisting of a tuple with a found frequent item set\n",
            "                and the values selected by the parameter 'report', which\n",
            "                may be combined into a tuple or list if report[0] is '('\n",
            "                or '[', respectively\n",
            "            if report in ['#','=','|']:\n",
            "              a pattern spectrum as a dictionary mapping pattern sizes\n",
            "              to the corresponding occurrence support ranges, as a list\n",
            "              of triplets (size, min. support, max. support) or as three\n",
            "              columns for sizes and minimum and maximum support values\n",
            "\n"
          ],
          "name": "stdout"
        }
      ]
    },
    {
      "cell_type": "code",
      "metadata": {
        "colab": {
          "base_uri": "https://localhost:8080/"
        },
        "id": "9wj-b6YCCERQ",
        "outputId": "c5617584-54b8-431e-c36b-9803831b2c5f"
      },
      "source": [
        "eclat(df.iloc[:,:].values, target='a', supp=20)"
      ],
      "execution_count": null,
      "outputs": [
        {
          "output_type": "execute_result",
          "data": {
            "text/plain": [
              "[((nan,), 274),\n",
              " (('Bread', nan), 125),\n",
              " (('Bread',), 159),\n",
              " (('Milk', nan), 129),\n",
              " (('Milk', 'Bread'), 88),\n",
              " (('Milk',), 158),\n",
              " (('Cheese', nan), 124),\n",
              " (('Cheese', 'Bread'), 75),\n",
              " (('Cheese', 'Milk', nan), 74),\n",
              " (('Cheese', 'Milk'), 96),\n",
              " (('Cheese',), 158),\n",
              " (('Meat', nan), 116),\n",
              " (('Meat', 'Bread'), 65),\n",
              " (('Meat', 'Milk'), 77),\n",
              " (('Meat', 'Cheese', nan), 74),\n",
              " (('Meat', 'Cheese', 'Milk'), 64),\n",
              " (('Meat', 'Cheese'), 102),\n",
              " (('Meat',), 150),\n",
              " (('Eggs', nan), 106),\n",
              " (('Eggs', 'Milk'), 77),\n",
              " (('Eggs', 'Cheese', nan), 69),\n",
              " (('Eggs', 'Cheese'), 94),\n",
              " (('Eggs', 'Meat', 'Cheese'), 68),\n",
              " (('Eggs', 'Meat'), 84),\n",
              " (('Eggs',), 138),\n",
              " (('Wine', nan), 100),\n",
              " (('Wine', 'Bread'), 77),\n",
              " (('Wine', 'Milk'), 69),\n",
              " (('Wine', 'Cheese'), 85),\n",
              " (('Wine', 'Meat'), 79),\n",
              " (('Wine', 'Eggs'), 76),\n",
              " (('Wine',), 138),\n",
              " (('Bagel', nan), 106),\n",
              " (('Bagel', 'Bread', nan), 67),\n",
              " (('Bagel', 'Bread'), 88),\n",
              " (('Bagel', 'Milk'), 71),\n",
              " (('Bagel',), 134),\n",
              " (('Diaper', nan), 100),\n",
              " (('Diaper', 'Bread'), 73),\n",
              " (('Diaper', 'Cheese'), 63),\n",
              " (('Diaper', 'Wine'), 74),\n",
              " (('Diaper',), 128),\n",
              " (('Pencil', nan), 84),\n",
              " (('Pencil', 'Bread'), 63),\n",
              " (('Pencil', 'Cheese'), 63),\n",
              " (('Pencil', 'Wine'), 63),\n",
              " (('Pencil',), 114)]"
            ]
          },
          "metadata": {
            "tags": []
          },
          "execution_count": 7
        }
      ]
    },
    {
      "cell_type": "code",
      "metadata": {
        "colab": {
          "base_uri": "https://localhost:8080/"
        },
        "id": "rvSgvMESDjih",
        "outputId": "e52e6694-b657-4f71-a17f-bdb04225126b"
      },
      "source": [
        "data = []\r\n",
        "for i in range(df.shape[0]):\r\n",
        "  row = df.iloc[i,:].values\r\n",
        "  row = row[~pd.isnull(row)] #remover los nan/null de la fila i\r\n",
        "  data += [row.tolist()]\r\n",
        "data = np.array(data)"
      ],
      "execution_count": null,
      "outputs": [
        {
          "output_type": "stream",
          "text": [
            "/usr/local/lib/python3.6/dist-packages/ipykernel_launcher.py:6: VisibleDeprecationWarning: Creating an ndarray from ragged nested sequences (which is a list-or-tuple of lists-or-tuples-or ndarrays with different lengths or shapes) is deprecated. If you meant to do this, you must specify 'dtype=object' when creating the ndarray\n",
            "  \n"
          ],
          "name": "stderr"
        }
      ]
    },
    {
      "cell_type": "code",
      "metadata": {
        "colab": {
          "base_uri": "https://localhost:8080/",
          "height": 285
        },
        "id": "7zy08aUoEJi5",
        "outputId": "78997b10-dd35-4441-8392-8c892c06e06a"
      },
      "source": [
        "paso = 20\r\n",
        "trans = [(i+1, len(data[i])) for i in range(len(data)) if i % paso == 0]\r\n",
        "df_trans = pd.DataFrame(trans)\r\n",
        "df_trans.columns = [\"IdCliente\", \"#Items\"]\r\n",
        "df_trans.plot.barh(x=\"IdCliente\", y=\"#Items\")"
      ],
      "execution_count": null,
      "outputs": [
        {
          "output_type": "execute_result",
          "data": {
            "text/plain": [
              "<matplotlib.axes._subplots.AxesSubplot at 0x7f1af093e5f8>"
            ]
          },
          "metadata": {
            "tags": []
          },
          "execution_count": 9
        },
        {
          "output_type": "display_data",
          "data": {
            "image/png": "[encoded data removed]",
            "text/plain": [
              "<Figure size 432x288 with 1 Axes>"
            ]
          },
          "metadata": {
            "tags": []
          }
        }
      ]
    },
    {
      "cell_type": "code",
      "metadata": {
        "colab": {
          "base_uri": "https://localhost:8080/",
          "height": 294
        },
        "id": "_x7hrwZsGJXB",
        "outputId": "f33ec776-d86b-4e18-a438-1db0f4ddb4e3"
      },
      "source": [
        "trans_ = [(i+1, len(data[i])) for i in range(len(data))]\r\n",
        "df_trans_ = pd.DataFrame(trans_)\r\n",
        "df_trans_.columns = [\"IdCliente\", \"#Items\"]\r\n",
        "df_trans_.groupby([\"#Items\"]).count()"
      ],
      "execution_count": null,
      "outputs": [
        {
          "output_type": "execute_result",
          "data": {
            "text/html": [
              "<div>\n",
              "<style scoped>\n",
              "    .dataframe tbody tr th:only-of-type {\n",
              "        vertical-align: middle;\n",
              "    }\n",
              "\n",
              "    .dataframe tbody tr th {\n",
              "        vertical-align: top;\n",
              "    }\n",
              "\n",
              "    .dataframe thead th {\n",
              "        text-align: right;\n",
              "    }\n",
              "</style>\n",
              "<table border=\"1\" class=\"dataframe\">\n",
              "  <thead>\n",
              "    <tr style=\"text-align: right;\">\n",
              "      <th></th>\n",
              "      <th>IdCliente</th>\n",
              "    </tr>\n",
              "    <tr>\n",
              "      <th>#Items</th>\n",
              "      <th></th>\n",
              "    </tr>\n",
              "  </thead>\n",
              "  <tbody>\n",
              "    <tr>\n",
              "      <th>1</th>\n",
              "      <td>30</td>\n",
              "    </tr>\n",
              "    <tr>\n",
              "      <th>2</th>\n",
              "      <td>40</td>\n",
              "    </tr>\n",
              "    <tr>\n",
              "      <th>3</th>\n",
              "      <td>58</td>\n",
              "    </tr>\n",
              "    <tr>\n",
              "      <th>4</th>\n",
              "      <td>54</td>\n",
              "    </tr>\n",
              "    <tr>\n",
              "      <th>5</th>\n",
              "      <td>62</td>\n",
              "    </tr>\n",
              "    <tr>\n",
              "      <th>6</th>\n",
              "      <td>30</td>\n",
              "    </tr>\n",
              "    <tr>\n",
              "      <th>7</th>\n",
              "      <td>41</td>\n",
              "    </tr>\n",
              "  </tbody>\n",
              "</table>\n",
              "</div>"
            ],
            "text/plain": [
              "        IdCliente\n",
              "#Items           \n",
              "1              30\n",
              "2              40\n",
              "3              58\n",
              "4              54\n",
              "5              62\n",
              "6              30\n",
              "7              41"
            ]
          },
          "metadata": {
            "tags": []
          },
          "execution_count": 10
        }
      ]
    },
    {
      "cell_type": "code",
      "metadata": {
        "colab": {
          "base_uri": "https://localhost:8080/",
          "height": 285
        },
        "id": "L9noUWTwHwQo",
        "outputId": "bc383d3c-2d30-43bf-afac-111d6d32b676"
      },
      "source": [
        "df_trans_.sample(10).plot.barh(x=\"IdCliente\", y=\"#Items\")"
      ],
      "execution_count": null,
      "outputs": [
        {
          "output_type": "execute_result",
          "data": {
            "text/plain": [
              "<matplotlib.axes._subplots.AxesSubplot at 0x7f1af0864d30>"
            ]
          },
          "metadata": {
            "tags": []
          },
          "execution_count": 11
        },
        {
          "output_type": "display_data",
          "data": {
            "image/png": "[encoded data removed]",
            "text/plain": [
              "<Figure size 432x288 with 1 Axes>"
            ]
          },
          "metadata": {
            "tags": []
          }
        }
      ]
    },
    {
      "cell_type": "code",
      "metadata": {
        "colab": {
          "base_uri": "https://localhost:8080/",
          "height": 285
        },
        "id": "DJ31ZXfAIC2w",
        "outputId": "fdb8258d-2564-4528-c20c-32aca965ca6d"
      },
      "source": [
        "df_trans_[df_trans_[\"#Items\"] == df_trans_[\"#Items\"].max()].iloc[:10,:].plot.barh(x=\"IdCliente\", y=\"#Items\")"
      ],
      "execution_count": null,
      "outputs": [
        {
          "output_type": "execute_result",
          "data": {
            "text/plain": [
              "<matplotlib.axes._subplots.AxesSubplot at 0x7f1af0340940>"
            ]
          },
          "metadata": {
            "tags": []
          },
          "execution_count": 12
        },
        {
          "output_type": "display_data",
          "data": {
            "image/png": "[encoded data removed]",
            "text/plain": [
              "<Figure size 432x288 with 1 Axes>"
            ]
          },
          "metadata": {
            "tags": []
          }
        }
      ]
    },
    {
      "cell_type": "code",
      "metadata": {
        "colab": {
          "base_uri": "https://localhost:8080/"
        },
        "id": "RS1weSYhI7z5",
        "outputId": "9bc95b7e-713c-4eb0-92a9-2976fa1b51e2"
      },
      "source": [
        "r = fpgrowth(data, target='a', supp=1, zmax=1)\r\n",
        "r"
      ],
      "execution_count": null,
      "outputs": [
        {
          "output_type": "execute_result",
          "data": {
            "text/plain": [
              "[(('Cheese',), 158),\n",
              " (('Bread',), 159),\n",
              " (('Milk',), 158),\n",
              " (('Meat',), 150),\n",
              " (('Wine',), 138),\n",
              " (('Eggs',), 138),\n",
              " (('Bagel',), 134),\n",
              " (('Diaper',), 128),\n",
              " (('Pencil',), 114)]"
            ]
          },
          "metadata": {
            "tags": []
          },
          "execution_count": 13
        }
      ]
    },
    {
      "cell_type": "code",
      "metadata": {
        "colab": {
          "base_uri": "https://localhost:8080/",
          "height": 285
        },
        "id": "0q2sV76RJPko",
        "outputId": "e503cec5-790b-4d8a-9594-d5ee10a00474"
      },
      "source": [
        "df_items = pd.DataFrame(r)\r\n",
        "df_items.columns = [\"Items\", \"Freq\"]\r\n",
        "df_items.sort_values(by=\"Freq\", ascending=False, inplace=True)\r\n",
        "df_items.plot.barh(x=\"Items\", y=\"Freq\")"
      ],
      "execution_count": null,
      "outputs": [
        {
          "output_type": "execute_result",
          "data": {
            "text/plain": [
              "<matplotlib.axes._subplots.AxesSubplot at 0x7f1aef83a4e0>"
            ]
          },
          "metadata": {
            "tags": []
          },
          "execution_count": 14
        },
        {
          "output_type": "display_data",
          "data": {
            "image/png": "[encoded data removed]",
            "text/plain": [
              "<Figure size 432x288 with 1 Axes>"
            ]
          },
          "metadata": {
            "tags": []
          }
        }
      ]
    },
    {
      "cell_type": "code",
      "metadata": {
        "colab": {
          "base_uri": "https://localhost:8080/",
          "height": 285
        },
        "id": "YUZH8MOUKPBz",
        "outputId": "9b9eae07-6c1b-4cb8-e39c-53b24ab198ec"
      },
      "source": [
        "r = fpgrowth(data, target='a', supp=10, zmin=2)\r\n",
        "df_items = pd.DataFrame(r)\r\n",
        "df_items.columns = [\"Items\", \"Freq\"]\r\n",
        "df_items.sort_values(by=\"Freq\", ascending=False, inplace=True)\r\n",
        "df_items.iloc[:20,:].plot.barh(x=\"Items\", y=\"Freq\")"
      ],
      "execution_count": null,
      "outputs": [
        {
          "output_type": "execute_result",
          "data": {
            "text/plain": [
              "<matplotlib.axes._subplots.AxesSubplot at 0x7f1aef7bc3c8>"
            ]
          },
          "metadata": {
            "tags": []
          },
          "execution_count": 15
        },
        {
          "output_type": "display_data",
          "data": {
            "image/png": "[encoded data removed]",
            "text/plain": [
              "<Figure size 432x288 with 1 Axes>"
            ]
          },
          "metadata": {
            "tags": []
          }
        }
      ]
    },
    {
      "cell_type": "code",
      "metadata": {
        "colab": {
          "base_uri": "https://localhost:8080/",
          "height": 248
        },
        "id": "nFcKzEK7LipA",
        "outputId": "83a9123d-7bef-4e7b-d695-c85018bc0e63"
      },
      "source": [
        "import networkx as nx\r\n",
        "G = nx.Graph()\r\n",
        "\r\n",
        "df_ = df_items.iloc[:20,:]\r\n",
        "l = []\r\n",
        "e = {}\r\n",
        "for i,row in df_.iterrows():\r\n",
        "  c = str(row[\"Items\"]).replace(\"(\",\"\").replace(\")\",\"\").replace(\"'\",\"\").split(\", \")\r\n",
        "  e[(c[0],c[1])] = int(row[\"Freq\"])\r\n",
        "  l += c\r\n",
        "l = set(l)\r\n",
        "\r\n",
        "for i in l:\r\n",
        "  G.add_node(i)\r\n",
        "for j in e:\r\n",
        "  G.add_edge(j[0], j[1], weight=e[j])\r\n",
        "\r\n",
        "pos = nx.circular_layout(G)\r\n",
        "edge_labels = nx.get_edge_attributes(G,'weight')\r\n",
        "nx.draw_networkx_edge_labels(G, pos, edge_labels = edge_labels)\r\n",
        "edges = G.edges()\r\n",
        "weights = [G[u][v]['weight'] / 20 for u,v in edges]\r\n",
        "nx.draw_circular(G, node_size=1000, node_shape='s', with_labels = True, width = weights)"
      ],
      "execution_count": null,
      "outputs": [
        {
          "output_type": "display_data",
          "data": {
            "image/png": "[encoded data removed]",
            "text/plain": [
              "<Figure size 432x288 with 1 Axes>"
            ]
          },
          "metadata": {
            "tags": []
          }
        }
      ]
    }
  ]
}